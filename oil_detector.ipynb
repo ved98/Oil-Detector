{
 "cells": [
  {
   "cell_type": "code",
   "execution_count": 1,
   "metadata": {},
   "outputs": [
    {
     "name": "stderr",
     "output_type": "stream",
     "text": [
      "/home/chucha/.local/lib/python3.6/site-packages/h5py/__init__.py:36: FutureWarning: Conversion of the second argument of issubdtype from `float` to `np.floating` is deprecated. In future, it will be treated as `np.float64 == np.dtype(float).type`.\n",
      "  from ._conv import register_converters as _register_converters\n",
      "Using TensorFlow backend.\n",
      "/home/chucha/.local/lib/python3.6/site-packages/sklearn/cross_validation.py:41: DeprecationWarning: This module was deprecated in version 0.18 in favor of the model_selection module into which all the refactored classes and functions are moved. Also note that the interface of the new CV iterators are different from that of this module. This module will be removed in 0.20.\n",
      "  \"This module will be removed in 0.20.\", DeprecationWarning)\n"
     ]
    }
   ],
   "source": [
    "from keras.layers import Convolution2D, MaxPooling2D , BatchNormalization, ZeroPadding2D\n",
    "from keras.layers import Activation, Dropout, Flatten, Dense , Input\n",
    "from keras.models import Model, Sequential\n",
    "from keras import applications, losses\n",
    "from numpy import *\n",
    "import cv2\n",
    "import numpy as np\n",
    "import scipy.misc\n",
    "import os\n",
    "from keras.optimizers import Adadelta, RMSprop, adam, SGD\n",
    "from keras.preprocessing.image import ImageDataGenerator, array_to_img, img_to_array, load_img\n",
    "from sklearn.utils import shuffle\n",
    "from sklearn.cross_validation import train_test_split\n",
    "from keras.utils.np_utils import to_categorical"
   ]
  },
  {
   "cell_type": "code",
   "execution_count": 2,
   "metadata": {},
   "outputs": [],
   "source": [
    "neck = applications.VGG16(weights='imagenet', include_top=False, input_shape=(224, 224, 3))"
   ]
  },
  {
   "cell_type": "code",
   "execution_count": 3,
   "metadata": {},
   "outputs": [],
   "source": [
    "classify = Flatten()(neck.output)\n",
    "classify = Dense(256, activation='relu')(classify)\n",
    "classify = Dropout(0.5)(classify)\n",
    "classify = Dense(2, activation='sigmoid')(classify)"
   ]
  },
  {
   "cell_type": "code",
   "execution_count": 4,
   "metadata": {},
   "outputs": [],
   "source": [
    "Detector=Model(neck.input, classify)"
   ]
  },
  {
   "cell_type": "code",
   "execution_count": 5,
   "metadata": {},
   "outputs": [],
   "source": [
    "for layers in neck.layers:\n",
    "    layers.trainable=False"
   ]
  },
  {
   "cell_type": "code",
   "execution_count": 6,
   "metadata": {},
   "outputs": [
    {
     "name": "stdout",
     "output_type": "stream",
     "text": [
      "_________________________________________________________________\n",
      "Layer (type)                 Output Shape              Param #   \n",
      "=================================================================\n",
      "input_1 (InputLayer)         (None, 224, 224, 3)       0         \n",
      "_________________________________________________________________\n",
      "block1_conv1 (Conv2D)        (None, 224, 224, 64)      1792      \n",
      "_________________________________________________________________\n",
      "block1_conv2 (Conv2D)        (None, 224, 224, 64)      36928     \n",
      "_________________________________________________________________\n",
      "block1_pool (MaxPooling2D)   (None, 112, 112, 64)      0         \n",
      "_________________________________________________________________\n",
      "block2_conv1 (Conv2D)        (None, 112, 112, 128)     73856     \n",
      "_________________________________________________________________\n",
      "block2_conv2 (Conv2D)        (None, 112, 112, 128)     147584    \n",
      "_________________________________________________________________\n",
      "block2_pool (MaxPooling2D)   (None, 56, 56, 128)       0         \n",
      "_________________________________________________________________\n",
      "block3_conv1 (Conv2D)        (None, 56, 56, 256)       295168    \n",
      "_________________________________________________________________\n",
      "block3_conv2 (Conv2D)        (None, 56, 56, 256)       590080    \n",
      "_________________________________________________________________\n",
      "block3_conv3 (Conv2D)        (None, 56, 56, 256)       590080    \n",
      "_________________________________________________________________\n",
      "block3_pool (MaxPooling2D)   (None, 28, 28, 256)       0         \n",
      "_________________________________________________________________\n",
      "block4_conv1 (Conv2D)        (None, 28, 28, 512)       1180160   \n",
      "_________________________________________________________________\n",
      "block4_conv2 (Conv2D)        (None, 28, 28, 512)       2359808   \n",
      "_________________________________________________________________\n",
      "block4_conv3 (Conv2D)        (None, 28, 28, 512)       2359808   \n",
      "_________________________________________________________________\n",
      "block4_pool (MaxPooling2D)   (None, 14, 14, 512)       0         \n",
      "_________________________________________________________________\n",
      "block5_conv1 (Conv2D)        (None, 14, 14, 512)       2359808   \n",
      "_________________________________________________________________\n",
      "block5_conv2 (Conv2D)        (None, 14, 14, 512)       2359808   \n",
      "_________________________________________________________________\n",
      "block5_conv3 (Conv2D)        (None, 14, 14, 512)       2359808   \n",
      "_________________________________________________________________\n",
      "block5_pool (MaxPooling2D)   (None, 7, 7, 512)         0         \n",
      "_________________________________________________________________\n",
      "flatten_1 (Flatten)          (None, 25088)             0         \n",
      "_________________________________________________________________\n",
      "dense_1 (Dense)              (None, 256)               6422784   \n",
      "_________________________________________________________________\n",
      "dropout_1 (Dropout)          (None, 256)               0         \n",
      "_________________________________________________________________\n",
      "dense_2 (Dense)              (None, 2)                 514       \n",
      "=================================================================\n",
      "Total params: 21,137,986\n",
      "Trainable params: 6,423,298\n",
      "Non-trainable params: 14,714,688\n",
      "_________________________________________________________________\n"
     ]
    }
   ],
   "source": [
    "Detector.summary()"
   ]
  },
  {
   "cell_type": "code",
   "execution_count": 7,
   "metadata": {},
   "outputs": [],
   "source": [
    "Detector.compile(loss='binary_crossentropy', optimizer='rmsprop', metrics=['accuracy'])"
   ]
  },
  {
   "cell_type": "code",
   "execution_count": 8,
   "metadata": {},
   "outputs": [],
   "source": [
    "pimgs=os.listdir('data2/positive')\n",
    "nimgs=os.listdir('data2/negative')"
   ]
  },
  {
   "cell_type": "code",
   "execution_count": 9,
   "metadata": {},
   "outputs": [],
   "source": [
    "in_mat=[]\n",
    "out_mat=[]"
   ]
  },
  {
   "cell_type": "code",
   "execution_count": 10,
   "metadata": {},
   "outputs": [
    {
     "name": "stdout",
     "output_type": "stream",
     "text": [
      "1973 positives\n",
      "1889 negatives\n",
      "3862 images are loaded\n"
     ]
    }
   ],
   "source": [
    "for i in range(len(pimgs)):\n",
    "    img = load_img('data2/positive/'+pimgs[i])\n",
    "    img = img_to_array(img)\n",
    "    in_mat.append(img)\n",
    "    out_mat.append(1)\n",
    "print(str(len(pimgs))+\" positives\")\n",
    "for i in range(len(nimgs)):\n",
    "    img = load_img('data2/negative/'+nimgs[i])\n",
    "    img = img_to_array(img)\n",
    "    in_mat.append(img)\n",
    "    out_mat.append(0)\n",
    "print(str(len(nimgs))+\" negatives\")\n",
    "print(str(len(pimgs)+len(nimgs))+\" images are loaded\")"
   ]
  },
  {
   "cell_type": "code",
   "execution_count": 11,
   "metadata": {},
   "outputs": [
    {
     "name": "stdout",
     "output_type": "stream",
     "text": [
      "traindata = 3475\n",
      "testdata = 387\n"
     ]
    }
   ],
   "source": [
    "data,Label = shuffle(in_mat,out_mat, random_state=2)\n",
    "X_train,X_test,Y_train,Y_test=train_test_split(data, Label, test_size=0.10, random_state=2)\n",
    "del data[:]\n",
    "del Label[:]\n",
    "del in_mat[:]\n",
    "del out_mat[:]\n",
    "X_train=array(X_train)\n",
    "Y_train=array(Y_train)\n",
    "X_test=array(X_test)\n",
    "Y_test=array(Y_test)\n",
    "Y_train= to_categorical(Y_train, num_classes=2)\n",
    "Y_test = to_categorical(Y_test, num_classes=2)\n",
    "print(\"traindata = \"+str(X_train.shape[0]))\n",
    "print(\"testdata = \"+str(X_test.shape[0]))"
   ]
  },
  {
   "cell_type": "code",
   "execution_count": null,
   "metadata": {},
   "outputs": [],
   "source": [
    "X_train = X_train.astype('float32') / 255.\n",
    "X_test = X_test.astype('float32') / 255."
   ]
  },
  {
   "cell_type": "code",
   "execution_count": null,
   "metadata": {
    "scrolled": true
   },
   "outputs": [],
   "source": [
    "print(\"Training - Part 1 started!!\")\n",
    "Detector.fit(X_train, Y_train, epochs=1, batch_size=1, verbose=1)\n",
    "# for epoch in range(1):\n",
    "#     X_train,Y_train=shuffle(X_train,Y_train)\n",
    "#     print (\"Epoch is: %d\\n\" % epoch)\n",
    "#     print (\"Number of batches: %d\\n\" % int(num_batches))\n",
    "#     for batch in range(int(num_batches)):\n",
    "#         batch_train_X=X_train[batch*batch_size:min((batch+1)*batch_size,len(X_train))]\n",
    "#         batch_train_Y=Y_train[batch*batch_size:min((batch+1)*batch_size,len(Y_train))]\n",
    "#         loss=Detector.train_on_batch(batch_train_X,batch_train_Y)\n",
    "# #         l=Detector.predict(batch_train_X,verbose=0)\n",
    "# #         loss=binary_crossentropy(batch_train_Y,l)\n",
    "# #         print(loss)\n",
    "#         print ('epoch_num: %d batch_num: %d train loss: %f class-%f\\n' % (epoch+1,batch+1,loss[0]*100,loss[1]))\n",
    "Detector.save_weights(\"part1.h5\")\n",
    "print(\"PART1 - training completed for the classifier\")"
   ]
  },
  {
   "cell_type": "code",
   "execution_count": null,
   "metadata": {},
   "outputs": [],
   "source": [
    "scores = Detector.evaluate(X_test, Y_test, verbose=1)\n",
    "print (\"Test Error: %.2f%%\" % (100-scores[1]*100))\n",
    "print (\"Test Accuracy: %.2f%%\" % (scores[1]*100))"
   ]
  },
  {
   "cell_type": "code",
   "execution_count": null,
   "metadata": {},
   "outputs": [],
   "source": [
    "FDetector=Model(neck.input,classify)"
   ]
  },
  {
   "cell_type": "code",
   "execution_count": null,
   "metadata": {},
   "outputs": [],
   "source": [
    "FDetector.summary()"
   ]
  },
  {
   "cell_type": "code",
   "execution_count": null,
   "metadata": {},
   "outputs": [],
   "source": [
    "FDetector.load_weights('part1.h5')"
   ]
  },
  {
   "cell_type": "code",
   "execution_count": null,
   "metadata": {},
   "outputs": [],
   "source": [
    "FDetector.compile(loss='binary_crossentropy', optimizer='rmsprop', metrics=['accuracy'])"
   ]
  },
  {
   "cell_type": "code",
   "execution_count": null,
   "metadata": {},
   "outputs": [],
   "source": [
    "print(\"Training - Part 2 started\")\n",
    "batch_size=1\n",
    "FDetector.fit(X_train, Y_train, epochs=1, batch_size=1, verbose=1)\n",
    "# num_batches=math.ceil(len(X_train)*1.0/batch_size)\n",
    "# for epoch in range(1):\n",
    "#     X_train,Y_train=shuffle(X_train,Y_train)\n",
    "#     print (\"Epoch is: %d\\n\" % epoch)\n",
    "#     print (\"Number of batches: %d\\n\" % int(num_batches))\n",
    "#     for batch in range(int(num_batches-40)):\n",
    "#         batch_train_X=X_train[batch*batch_size:min((batch+1)*batch_size,len(X_train))]\n",
    "#         batch_train_Y=Y_train[batch*batch_size:min((batch+1)*batch_size,len(Y_train))]\n",
    "#         loss=FDetector.train_on_batch(batch_train_X,batch_train_Y)\n",
    "# #         l=Detector.predict(batch_train_X,verbose=0)\n",
    "# #         loss=binary_crossentropy(batch_train_Y,l)\n",
    "# #         print(loss)\n",
    "#         print ('epoch_num: %d batch_num: %d train loss: %f class-%f\\n' % (epoch+1,batch+1,loss[0]*100,loss[1]))\n",
    "FDetector.save_weights(\"detector.h5\")\n",
    "print(\"PART2 - training completed for the network\")"
   ]
  },
  {
   "cell_type": "code",
   "execution_count": null,
   "metadata": {},
   "outputs": [],
   "source": [
    "scores = FDetector.evaluate(X_test, Y_test, verbose=1)\n",
    "print (\"Test Error: %.2f%%\" % (100-scores[1]*100))\n",
    "print (\"Test Accuracy: %.2f%%\" % (scores[1]*100))"
   ]
  }
 ],
 "metadata": {
  "kernelspec": {
   "display_name": "Python 3",
   "language": "python",
   "name": "python3"
  },
  "language_info": {
   "codemirror_mode": {
    "name": "ipython",
    "version": 3
   },
   "file_extension": ".py",
   "mimetype": "text/x-python",
   "name": "python",
   "nbconvert_exporter": "python",
   "pygments_lexer": "ipython3",
   "version": "3.6.3"
  }
 },
 "nbformat": 4,
 "nbformat_minor": 2
}
