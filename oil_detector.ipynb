{
 "cells": [
  {
   "cell_type": "code",
   "execution_count": null,
   "metadata": {},
   "outputs": [],
   "source": [
    "from keras.layers import Convolution2D, MaxPooling2D , BatchNormalization, ZeroPadding2D\n",
    "from keras.layers import Activation, Dropout, Flatten, Dense , Input\n",
    "from keras.models import Model, Sequential\n",
    "from keras import applications, losses\n",
    "from numpy import *\n",
    "import cv2\n",
    "import numpy as np\n",
    "import scipy.misc\n",
    "import os\n",
    "from keras.optimizers import Adadelta, RMSprop, adam, SGD\n",
    "from keras.preprocessing.image import ImageDataGenerator, array_to_img, img_to_array, load_img\n",
    "from sklearn.utils import shuffle\n",
    "from sklearn.cross_validation import train_test_split"
   ]
  },
  {
   "cell_type": "code",
   "execution_count": null,
   "metadata": {},
   "outputs": [],
   "source": [
    "neck = applications.VGG16(weights='imagenet', include_top=False, input_shape=(224, 224, 3))"
   ]
  },
  {
   "cell_type": "code",
   "execution_count": null,
   "metadata": {},
   "outputs": [],
   "source": [
    "classify = Flatten()(neck.output)\n",
    "classify = Dense(256, activation='relu')(classify)\n",
    "classify = Dropout(0.5)(classify)\n",
    "classify = Dense(1, activation='sigmoid')(classify)"
   ]
  },
  {
   "cell_type": "code",
   "execution_count": null,
   "metadata": {},
   "outputs": [],
   "source": [
    "Detector=Model(neck.input, classify)"
   ]
  },
  {
   "cell_type": "code",
   "execution_count": null,
   "metadata": {},
   "outputs": [],
   "source": [
    "for layers in neck.layers:\n",
    "    layers.trainable=False"
   ]
  },
  {
   "cell_type": "code",
   "execution_count": null,
   "metadata": {},
   "outputs": [],
   "source": [
    "Detector.summary()"
   ]
  },
  {
   "cell_type": "code",
   "execution_count": null,
   "metadata": {},
   "outputs": [],
   "source": [
    "Detector.compile(loss='binary_crossentropy', optimizer='rmsprop', metrics=['accuracy'])"
   ]
  },
  {
   "cell_type": "code",
   "execution_count": null,
   "metadata": {},
   "outputs": [],
   "source": [
    "pimgs=os.listdir('data2/positive')\n",
    "nimgs=os.listdir('data2/negative')"
   ]
  },
  {
   "cell_type": "code",
   "execution_count": null,
   "metadata": {},
   "outputs": [],
   "source": [
    "in_mat=[]\n",
    "out_mat=[]"
   ]
  },
  {
   "cell_type": "code",
   "execution_count": null,
   "metadata": {},
   "outputs": [],
   "source": [
    "for i in range(len(pimgs)):\n",
    "    img = load_img('data2/positive/'+pimgs[i])\n",
    "    img = img_to_array(img)\n",
    "    in_mat.append(img)\n",
    "    out_mat.append(1)\n",
    "print(str(len(pimgs))+\" positives\")\n",
    "for i in range(len(nimgs)):\n",
    "    img = load_img('data2/negative/'+nimgs[i])\n",
    "    img = img_to_array(img)\n",
    "    in_mat.append(img)\n",
    "    out_mat.append(0)\n",
    "print(str(len(nimgs))+\" negatives\")\n",
    "print(str(len(pimgs)+len(nimgs))+\" images are loaded\")"
   ]
  },
  {
   "cell_type": "code",
   "execution_count": null,
   "metadata": {},
   "outputs": [],
   "source": [
    "data,Label = shuffle(in_mat,out_mat, random_state=2)\n",
    "X_train,X_test,Y_train,Y_test=train_test_split(data, Label, test_size=0.10, random_state=2)\n",
    "del data[:]\n",
    "del Label[:]\n",
    "del in_mat[:]\n",
    "del out_mat[:]\n",
    "X_train=array(X_train)\n",
    "Y_train=array(Y_train)\n",
    "X_test=array(X_test)\n",
    "Y_test=array(Y_test)\n",
    "print(\"traindata = \"+str(X_train.shape[0]))\n",
    "print(\"testdata = \"+str(X_test.shape[0]))"
   ]
  },
  {
   "cell_type": "code",
   "execution_count": null,
   "metadata": {},
   "outputs": [],
   "source": [
    "X_train = X_train.astype('float32') / 255.\n",
    "X_test = X_test.astype('float32') / 255."
   ]
  },
  {
   "cell_type": "code",
   "execution_count": null,
   "metadata": {
    "scrolled": false
   },
   "outputs": [],
   "source": [
    "batch_size=1\n",
    "num_batches=math.ceil(len(X_train)*1.0/batch_size)\n",
    "for epoch in range(1):\n",
    "    X_train,Y_train=shuffle(X_train,Y_train)\n",
    "    print (\"Epoch is: %d\\n\" % epoch)\n",
    "    print (\"Number of batches: %d\\n\" % int(num_batches))\n",
    "    for batch in range(int(num_batches)):\n",
    "        batch_train_X=X_train[batch*batch_size:min((batch+1)*batch_size,len(X_train))]\n",
    "        batch_train_Y=Y_train[batch*batch_size:min((batch+1)*batch_size,len(Y_train))]\n",
    "        loss=Detector.train_on_batch(batch_train_X,batch_train_Y)\n",
    "#         l=Detector.predict(batch_train_X,verbose=0)\n",
    "#         loss=binary_crossentropy(batch_train_Y,l)\n",
    "#         print(loss)\n",
    "        print ('epoch_num: %d batch_num: %d train loss: %f class-%f\\n' % (epoch+1,batch+1,loss[0]*100,loss[1]))\n",
    "Detector.save_weights(\"part1.h5\")\n",
    "print(\"PART1 - training completed for the classifier\")"
   ]
  },
  {
   "cell_type": "code",
   "execution_count": null,
   "metadata": {},
   "outputs": [],
   "source": [
    "loss=0\n",
    "num_batches=math.ceil(len(X_test)*1.0/batch_size)\n",
    "for batch in range(int(num_batches)):\n",
    "    batch_test_X=X_test[batch*batch_size:min((batch+1)*batch_size,len(X_test))]\n",
    "    batch_test_Y=Y_test[batch*batch_size:min((batch+1)*batch_size,len(Y_test))]\n",
    "    loss+=Detector.test_on_batch(batch_test_X,batch_test_Y)[0]\n",
    "loss/=num_batches\n",
    "print(\"Part1-Testloss=\"+str(loss*100)+\"%\")"
   ]
  },
  {
   "cell_type": "code",
   "execution_count": null,
   "metadata": {},
   "outputs": [],
   "source": [
    "FDetector=Model(neck.input,classify)"
   ]
  },
  {
   "cell_type": "code",
   "execution_count": null,
   "metadata": {},
   "outputs": [],
   "source": [
    "FDetector.summary()"
   ]
  },
  {
   "cell_type": "code",
   "execution_count": null,
   "metadata": {},
   "outputs": [],
   "source": [
    "FDetector.load_weights('part1.h5')"
   ]
  },
  {
   "cell_type": "code",
   "execution_count": null,
   "metadata": {},
   "outputs": [],
   "source": [
    "FDetector.compile(loss='binary_crossentropy', optimizer='rmsprop', metrics=['accuracy'])"
   ]
  },
  {
   "cell_type": "code",
   "execution_count": null,
   "metadata": {},
   "outputs": [],
   "source": [
    "batch_size=1\n",
    "num_batches=math.ceil(len(X_train)*1.0/batch_size)\n",
    "for epoch in range(1):\n",
    "    X_train,Y_train=shuffle(X_train,Y_train)\n",
    "    print (\"Epoch is: %d\\n\" % epoch)\n",
    "    print (\"Number of batches: %d\\n\" % int(num_batches))\n",
    "    for batch in range(int(num_batches-40)):\n",
    "        batch_train_X=X_train[batch*batch_size:min((batch+1)*batch_size,len(X_train))]\n",
    "        batch_train_Y=Y_train[batch*batch_size:min((batch+1)*batch_size,len(Y_train))]\n",
    "        loss=FDetector.train_on_batch(batch_train_X,batch_train_Y)\n",
    "#         l=Detector.predict(batch_train_X,verbose=0)\n",
    "#         loss=binary_crossentropy(batch_train_Y,l)\n",
    "#         print(loss)\n",
    "        print ('epoch_num: %d batch_num: %d train loss: %f class-%f\\n' % (epoch+1,batch+1,loss[0]*100,loss[1]))\n",
    "FDetector.save_weights(\"detector.h5\")\n",
    "print(\"PART2 - training completed for the network\")"
   ]
  },
  {
   "cell_type": "code",
   "execution_count": null,
   "metadata": {},
   "outputs": [],
   "source": [
    "loss=0\n",
    "num_batches=math.ceil(len(X_test)*1.0/batch_size)\n",
    "for batch in range(int(num_batches)):\n",
    "    batch_test_X=X_test[batch*batch_size:min((batch+1)*batch_size,len(X_test))]\n",
    "    batch_test_Y=Y_test[batch*batch_size:min((batch+1)*batch_size,len(Y_test))]\n",
    "    loss+=FDetector.test_on_batch(batch_test_X,batch_test_Y)[0]\n",
    "loss/=num_batches\n",
    "print(\"Final Testloss=\"+str(loss*100)+\"%\")"
   ]
  },
  {
   "cell_type": "code",
   "execution_count": null,
   "metadata": {},
   "outputs": [],
   "source": []
  }
 ],
 "metadata": {
  "kernelspec": {
   "display_name": "Python 3",
   "language": "python",
   "name": "python3"
  },
  "language_info": {
   "codemirror_mode": {
    "name": "ipython",
    "version": 3
   },
   "file_extension": ".py",
   "mimetype": "text/x-python",
   "name": "python",
   "nbconvert_exporter": "python",
   "pygments_lexer": "ipython3",
   "version": "3.6.3"
  }
 },
 "nbformat": 4,
 "nbformat_minor": 2
}
