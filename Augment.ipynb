{
 "cells": [
  {
   "cell_type": "code",
   "execution_count": 1,
   "metadata": {},
   "outputs": [
    {
     "name": "stderr",
     "output_type": "stream",
     "text": [
      "/home/chucha/.local/lib/python3.6/site-packages/h5py/__init__.py:36: FutureWarning: Conversion of the second argument of issubdtype from `float` to `np.floating` is deprecated. In future, it will be treated as `np.float64 == np.dtype(float).type`.\n",
      "  from ._conv import register_converters as _register_converters\n",
      "Using TensorFlow backend.\n"
     ]
    }
   ],
   "source": [
    "#import the libraries\n",
    "from keras.preprocessing.image import ImageDataGenerator, array_to_img, img_to_array, load_img\n",
    "import os\n",
    "import cv2\n",
    "import numpy as np"
   ]
  },
  {
   "cell_type": "code",
   "execution_count": 2,
   "metadata": {},
   "outputs": [],
   "source": [
    "#function to resize the image for the CNN\n",
    "def centering_image(img):\n",
    "    size = [256,256]\n",
    "    \n",
    "    img_size = img.shape[:2]\n",
    "    \n",
    "    # centering\n",
    "    row = (size[1] - img_size[0]) // 2\n",
    "    col = (size[0] - img_size[1]) // 2\n",
    "    resized = np.zeros(list(size) + [img.shape[2]], dtype=np.uint8)\n",
    "    resized[row:(row + img.shape[0]), col:(col + img.shape[1])] = img\n",
    "\n",
    "    return resized\n"
   ]
  },
  {
   "cell_type": "code",
   "execution_count": 3,
   "metadata": {},
   "outputs": [],
   "source": [
    "#datagenerator\n",
    "datagen = ImageDataGenerator(\n",
    "        rotation_range=90,\n",
    "        width_shift_range=0.2,\n",
    "        height_shift_range=0.2,\n",
    "        shear_range=0.2,\n",
    "        zoom_range=0.2,\n",
    "        horizontal_flip=True,\n",
    "        fill_mode='nearest')\n"
   ]
  },
  {
   "cell_type": "code",
   "execution_count": 4,
   "metadata": {},
   "outputs": [],
   "source": [
    "pimgs=os.listdir('data/positive')\n",
    "nimgs=os.listdir('data/negative')"
   ]
  },
  {
   "cell_type": "code",
   "execution_count": 5,
   "metadata": {},
   "outputs": [
    {
     "name": "stdout",
     "output_type": "stream",
     "text": [
      "94 postive images are found \n",
      "90 negative images are found \n"
     ]
    }
   ],
   "source": [
    "print(str(len(pimgs))+\" postive images are found \")\n",
    "print(str(len(nimgs))+\" negative images are found \")"
   ]
  },
  {
   "cell_type": "code",
   "execution_count": 6,
   "metadata": {},
   "outputs": [
    {
     "name": "stdout",
     "output_type": "stream",
     "text": [
      "Positive images augmented and saved\n"
     ]
    }
   ],
   "source": [
    "for i in range(len(pimgs)):\n",
    "    img = load_img('data/positive/'+pimgs[i])\n",
    "    x = img_to_array(img)\n",
    "    if(x.shape[0] > x.shape[1]):\n",
    "        tile_size = (int(x.shape[1]*256/x.shape[0]),256)\n",
    "    else:\n",
    "        tile_size = (256, int(x.shape[0]*256/x.shape[1]))\n",
    "    x = centering_image(cv2.resize(x, dsize=tile_size))\n",
    "    x = x[16:240, 16:240]\n",
    "    x = x.reshape((1,) + x.shape)  # this is a Numpy array with shape (1, 3, 150, 150)\n",
    "# # the .flow() command below generates batches of randomly transformed images\n",
    "# # and saves the results to the `preview/` directory\n",
    "    j = 0\n",
    "    for b in datagen.flow(x, batch_size=1,save_to_dir='data2/positive', save_prefix=pimgs[i], save_format='jpeg'):\n",
    "        j += 1\n",
    "        if j > 20:\n",
    "            break # otherwise the generator would loop indefinitely\n",
    "print(\"Positive images augmented and saved\")"
   ]
  },
  {
   "cell_type": "code",
   "execution_count": 7,
   "metadata": {},
   "outputs": [
    {
     "name": "stdout",
     "output_type": "stream",
     "text": [
      "Negative images augmented and saved\n"
     ]
    }
   ],
   "source": [
    "for i in range(len(nimgs)):\n",
    "    img = load_img('data/negative/'+nimgs[i])\n",
    "    x = img_to_array(img)\n",
    "    if(x.shape[0] > x.shape[1]):\n",
    "        tile_size = (int(x.shape[1]*256/x.shape[0]),256)\n",
    "    else:\n",
    "        tile_size = (256, int(x.shape[0]*256/x.shape[1]))\n",
    "    x = centering_image(cv2.resize(x, dsize=tile_size))\n",
    "    x = x[16:240, 16:240]\n",
    "    x = x.reshape((1,) + x.shape)  # this is a Numpy array with shape (1, 3, 150, 150)\n",
    "# # the .flow() command below generates batches of randomly transformed images\n",
    "# # and saves the results to the `preview/` directory\n",
    "    j = 0\n",
    "    for b in datagen.flow(x, batch_size=1,save_to_dir='data2/negative', save_prefix=nimgs[i], save_format='jpeg'):\n",
    "        j += 1\n",
    "        if j > 20:\n",
    "            break # otherwise the generator would loop indefinitely\n",
    "print(\"Negative images augmented and saved\")"
   ]
  },
  {
   "cell_type": "code",
   "execution_count": null,
   "metadata": {},
   "outputs": [],
   "source": []
  }
 ],
 "metadata": {
  "kernelspec": {
   "display_name": "Python 3",
   "language": "python",
   "name": "python3"
  },
  "language_info": {
   "codemirror_mode": {
    "name": "ipython",
    "version": 3
   },
   "file_extension": ".py",
   "mimetype": "text/x-python",
   "name": "python",
   "nbconvert_exporter": "python",
   "pygments_lexer": "ipython3",
   "version": "3.6.3"
  }
 },
 "nbformat": 4,
 "nbformat_minor": 2
}
